{
 "cells": [
  {
   "cell_type": "code",
   "execution_count": 1,
   "metadata": {
    "collapsed": true
   },
   "outputs": [],
   "source": [
    "import sqlite3 as sql\n",
    "sql.headers = 'on'\n",
    "sql.mode = 'column'"
   ]
  },
  {
   "cell_type": "code",
   "execution_count": 2,
   "metadata": {
    "collapsed": true
   },
   "outputs": [],
   "source": [
    "conn = sql.connect('sqlite_db_pythonsqlite.db')"
   ]
  },
  {
   "cell_type": "code",
   "execution_count": 3,
   "metadata": {
    "collapsed": true
   },
   "outputs": [],
   "source": [
    "cursor = conn.cursor()"
   ]
  },
  {
   "cell_type": "code",
   "execution_count": 4,
   "metadata": {},
   "outputs": [
    {
     "name": "stdout",
     "output_type": "stream",
     "text": [
      "(0, 'Tennis Court 1', 5, 25, 10000, 200)\n",
      "(1, 'Tennis Court 2', 5, 25, 8000, 200)\n",
      "(2, 'Badminton Court', 0, 15.5, 4000, 50)\n",
      "(3, 'Table Tennis', 0, 5, 320, 10)\n",
      "(4, 'Massage Room 1', 9.9, 80, 4000, 3000)\n",
      "(5, 'Massage Room 2', 9.9, 80, 4000, 3000)\n",
      "(6, 'Squash Court', 3.5, 17.5, 5000, 80)\n",
      "(7, 'Snooker Table', 0, 5, 450, 15)\n",
      "(8, 'Pool Table', 0, 5, 400, 15)\n"
     ]
    }
   ],
   "source": [
    "query1 = \"\"\"\n",
    "    SELECT *\n",
    "    FROM FACILITIES\n",
    "    \"\"\"\n",
    "cursor.execute(query1)\n",
    "rows = cursor.fetchall()\n",
    " \n",
    "for row in rows:\n",
    "    print(row)"
   ]
  },
  {
   "cell_type": "code",
   "execution_count": 5,
   "metadata": {},
   "outputs": [
    {
     "name": "stdout",
     "output_type": "stream",
     "text": [
      " Welcome to the SQL mini project. You will carry out this project partly in\n",
      "the PHPMyAdmin interface and partly in Jupyter via a Python connection.\n",
      "\n",
      "This is Tier 2 of the case study which means that there'll be less guidance for you about how to setup\n",
      "your local SQLite connection in PART 2 of the case study. This will make the case study more challenging for you: \n",
      "you might need to do some digging aand revise the Working with Relational Databases in Python chapter in the previous resource.\n",
      "\n",
      "Otherwise the questions in the case study are exactly the same as with Tier 1. \n",
      "\n",
      "PART 1: PHPMyAdmin\n",
      "You will complete questions 1-9 below in the PHPMyAdmin interface. \n",
      "Log in by pasting the following URL into your browser and\n",
      "using the following Username and Password:\n",
      "\n",
      "URL: https://sql.springboard.com/\n",
      "Username: student\n",
      "Password: learn_sql@springboard\n",
      "\n",
      "The data you need is in the \"country_club\" database. This database\n",
      "contains 3 tables:\n",
      "    i) the \"Bookings\" table\n",
      "    ii) the \"Facilities\" table and\n",
      "    iii) the \"Members\" table.\n",
      "\n",
      "In this case study you'll be asked a series of questions. You can\n",
      "solve them using the platform but for the final deliverable\n",
      "paste the code for each solution into this script and upload it\n",
      "to your GitHub.\n",
      "\n",
      "Before starting with the questions feel free to take your time\n",
      "exploring the data and getting acquainted with the 3 tables. \n",
      "\n",
      "\n",
      " QUESTIONS \n",
      " Q1: Some of the facilities charge a fee to members but some do not.\n",
      "Write a SQL query to produce a list of the names of the facilities that do. \n",
      "\n",
      "\n",
      " Q2: How many facilities do not charge a fee to members? \n",
      "\n",
      "\n",
      " Q3: Write an SQL query to show a list of facilities that charge a fee to members\n",
      "where the fee is less than 20% of the facility's monthly maintenance cost.\n",
      "Return the facid facility name member cost and monthly maintenance of the\n",
      "facilities in question. \n",
      "\n",
      "\n",
      " Q4: Write an SQL query to retrieve the details of facilities with ID 1 and 5.\n",
      "Try writing the query without using the OR operator. \n",
      "\n",
      "\n",
      " Q5: Produce a list of facilities with each labelled as\n",
      "'cheap' or 'expensive' depending on if their monthly maintenance cost is\n",
      "more than $100. Return the name and monthly maintenance of the facilities\n",
      "in question. \n",
      "\n",
      "\n",
      " Q6: You'd like to get the first and last name of the last member(s)\n",
      "who signed up. Try not to use the LIMIT clause for your solution. \n",
      "\n",
      "\n",
      " Q7: Produce a list of all members who have used a tennis court.\n",
      "Include in your output the name of the court and the name of the member\n",
      "formatted as a single column. Ensure no duplicate data and order by\n",
      "the member name. \n",
      "\n",
      "\n",
      " Q8: Produce a list of bookings on the day of 2012-09-14 which\n",
      "will cost the member (or guest) more than $30. Remember that guests have\n",
      "different costs to members (the listed costs are per half-hour 'slot') and\n",
      "the guest user's ID is always 0. Include in your output the name of the\n",
      "facility the name of the member formatted as a single column and the cost.\n",
      "Order by descending cost and do not use any subqueries. \n",
      "\n",
      "\n",
      " Q9: This time produce the same result as in Q8 but using a subquery. \n",
      "\n",
      "\n",
      " PART 2: SQLite\n",
      "\n",
      "Export the country club data from PHPMyAdmin and connect to a local SQLite instance from Jupyter notebook \n",
      "for the following questions.  \n",
      "\n",
      "QUESTIONS:\n",
      " Q10: Produce a list of facilities with a total revenue less than 1000.\n",
      "The output of facility name and total revenue sorted by revenue. Remember\n",
      "that there's a different cost for guests and members! \n",
      "\n",
      " Q11: Produce a report of members and who recommended them in alphabetic surnamefirstname order \n",
      "\n",
      "\n",
      " Q12: Find the facilities with their usage by member but not guests \n",
      "\n",
      "\n",
      " Q13: Find the facilities usage by month but not guests \n",
      "\n"
     ]
    }
   ],
   "source": [
    "with open('SQLTasks Tier 2.sql', 'r') as file:\n",
    "    lines = file.readlines()\n",
    "    lines = [line.replace('\\n', '') for line in lines]\n",
    "    lines = [line.replace(',', '') for line in lines]\n",
    "    lines = [line.replace('/*', '') for line in lines]\n",
    "    lines = [line.replace('*/', '') for line in lines]\n",
    "for line in lines:\n",
    "    print(line)"
   ]
  },
  {
   "cell_type": "code",
   "execution_count": 6,
   "metadata": {},
   "outputs": [
    {
     "name": "stdout",
     "output_type": "stream",
     "text": [
      "facid\n",
      "name\n",
      "membercost\n",
      "guestcost\n",
      "initialoutlay\n",
      "monthlymaintenance\n"
     ]
    }
   ],
   "source": [
    "query = \"\"\"SELECT * \n",
    "FROM facilities\"\"\"\n",
    "rs = cursor.execute(query).fetchall()\n",
    "colnames = cursor.description\n",
    "for row in colnames:\n",
    "    print(row[0])"
   ]
  },
  {
   "cell_type": "code",
   "execution_count": 7,
   "metadata": {},
   "outputs": [
    {
     "name": "stdout",
     "output_type": "stream",
     "text": [
      "memid\n",
      "surname\n",
      "firstname\n",
      "address\n",
      "zipcode\n",
      "telephone\n",
      "recommendedby\n",
      "joindate\n"
     ]
    }
   ],
   "source": [
    "query = 'SELECT * FROM members'\n",
    "rs = cursor.execute(query).fetchall()\n",
    "colnames = cursor.description\n",
    "for row in colnames:\n",
    "    print(row[0])"
   ]
  },
  {
   "cell_type": "code",
   "execution_count": 8,
   "metadata": {},
   "outputs": [
    {
     "name": "stdout",
     "output_type": "stream",
     "text": [
      "bookid\n",
      "facid\n",
      "memid\n",
      "starttime\n",
      "slots\n"
     ]
    }
   ],
   "source": [
    "query = 'SELECT * FROM bookings'\n",
    "rs = cursor.execute(query).fetchall()\n",
    "colnames = cursor.description\n",
    "for row in colnames:\n",
    "    print(row[0])"
   ]
  },
  {
   "cell_type": "code",
   "execution_count": 9,
   "metadata": {
    "collapsed": true
   },
   "outputs": [],
   "source": [
    "def return_query(t_query):\n",
    "    return cursor.execute(t_query).fetchall()"
   ]
  },
  {
   "cell_type": "markdown",
   "metadata": {},
   "source": [
    "Q1: Some of the facilities charge a fee to members, but some do not.',\n",
    " 'Write a SQL query to produce a list of the names of the facilities that do."
   ]
  },
  {
   "cell_type": "code",
   "execution_count": 10,
   "metadata": {},
   "outputs": [
    {
     "data": {
      "text/plain": [
       "[('Tennis Court 1',),\n",
       " ('Tennis Court 2',),\n",
       " ('Massage Room 1',),\n",
       " ('Massage Room 2',),\n",
       " ('Squash Court',)]"
      ]
     },
     "execution_count": 10,
     "metadata": {},
     "output_type": "execute_result"
    }
   ],
   "source": [
    "query = \"\"\"SELECT name \n",
    "FROM facilities \n",
    "WHERE membercost != 0\"\"\"\n",
    "return_query(query)"
   ]
  },
  {
   "cell_type": "markdown",
   "metadata": {},
   "source": [
    "Q2: How many facilities do not charge a fee to members?"
   ]
  },
  {
   "cell_type": "code",
   "execution_count": 11,
   "metadata": {},
   "outputs": [
    {
     "data": {
      "text/plain": [
       "[(4,)]"
      ]
     },
     "execution_count": 11,
     "metadata": {},
     "output_type": "execute_result"
    }
   ],
   "source": [
    "query = 'SELECT COUNT(*) FROM facilities WHERE membercost == 0'\n",
    "return_query(query)"
   ]
  },
  {
   "cell_type": "markdown",
   "metadata": {},
   "source": [
    "Q3: Write an SQL query to show a list of facilities that charge a fee to members, where the fee is less than 20% of the facility's monthly maintenance cost. Return the facid, facility name, member cost, and monthly maintenance of the facilities in question."
   ]
  },
  {
   "cell_type": "code",
   "execution_count": 12,
   "metadata": {},
   "outputs": [
    {
     "data": {
      "text/plain": [
       "[(0, 'Tennis Court 1', 5, 200),\n",
       " (1, 'Tennis Court 2', 5, 200),\n",
       " (4, 'Massage Room 1', 9.9, 3000),\n",
       " (5, 'Massage Room 2', 9.9, 3000),\n",
       " (6, 'Squash Court', 3.5, 80)]"
      ]
     },
     "execution_count": 12,
     "metadata": {},
     "output_type": "execute_result"
    }
   ],
   "source": [
    "query = \"\"\"SELECT facid, name, membercost, monthlymaintenance \n",
    "FROM facilities \n",
    "WHERE membercost != 0 AND membercost < monthlymaintenance*.2\"\"\"\n",
    "return_query(query)"
   ]
  },
  {
   "cell_type": "markdown",
   "metadata": {},
   "source": [
    "Q4: Write an SQL query to retrieve the details of facilities with ID 1 and 5. Try writing the query without using the OR operator. "
   ]
  },
  {
   "cell_type": "code",
   "execution_count": 13,
   "metadata": {},
   "outputs": [
    {
     "data": {
      "text/plain": [
       "[(1, 'Tennis Court 2', 5, 25, 8000, 200),\n",
       " (5, 'Massage Room 2', 9.9, 80, 4000, 3000)]"
      ]
     },
     "execution_count": 13,
     "metadata": {},
     "output_type": "execute_result"
    }
   ],
   "source": [
    "query = \"\"\"SELECT * \n",
    "FROM facilities \n",
    "WHERE facid IN (1, 5)\"\"\"\n",
    "return_query(query)"
   ]
  },
  {
   "cell_type": "markdown",
   "metadata": {},
   "source": [
    "Q5: Produce a list of facilities, with each labelled as 'cheap' or 'expensive', depending on if their monthly maintenance cost is more than $100. Return the name and monthly maintenance of the facilities in question."
   ]
  },
  {
   "cell_type": "code",
   "execution_count": 14,
   "metadata": {},
   "outputs": [
    {
     "data": {
      "text/plain": [
       "[('Tennis Court 1', 200, 'expensive'),\n",
       " ('Tennis Court 2', 200, 'expensive'),\n",
       " ('Badminton Court', 50, 'cheap'),\n",
       " ('Table Tennis', 10, 'cheap'),\n",
       " ('Massage Room 1', 3000, 'expensive'),\n",
       " ('Massage Room 2', 3000, 'expensive'),\n",
       " ('Squash Court', 80, 'cheap'),\n",
       " ('Snooker Table', 15, 'cheap'),\n",
       " ('Pool Table', 15, 'cheap')]"
      ]
     },
     "execution_count": 14,
     "metadata": {},
     "output_type": "execute_result"
    }
   ],
   "source": [
    "q = '''SELECT name, monthlymaintenance,\n",
    "CASE WHEN (monthlymaintenance > 100) \n",
    "THEN 'expensive' \n",
    "ELSE 'cheap' \n",
    "END as cost\n",
    "FROM facilities'''\n",
    "return_query(q)"
   ]
  },
  {
   "cell_type": "markdown",
   "metadata": {},
   "source": [
    "Q6: You'd like to get the first and last name of the last member(s), who signed up. Try not to use the LIMIT clause for your solution."
   ]
  },
  {
   "cell_type": "code",
   "execution_count": 15,
   "metadata": {},
   "outputs": [
    {
     "data": {
      "text/plain": [
       "[('Smith', 'Darren')]"
      ]
     },
     "execution_count": 15,
     "metadata": {},
     "output_type": "execute_result"
    }
   ],
   "source": [
    "query= '''SELECT surname, firstname \n",
    "FROM members \n",
    "WHERE rowid = (SELECT MAX(rowid) FROM members) \n",
    "ORDER BY joindate'''\n",
    "return_query(query)"
   ]
  },
  {
   "cell_type": "markdown",
   "metadata": {},
   "source": [
    "Q7: Produce a list of all members who have used a tennis court. Include in your output the name of the court, and the name of the member formatted as a single column. Ensure no duplicate data, and order by the member name."
   ]
  },
  {
   "cell_type": "code",
   "execution_count": 16,
   "metadata": {},
   "outputs": [
    {
     "data": {
      "text/plain": [
       "[('Florence Bader', 'Tennis Court 1'),\n",
       " ('Florence Bader', 'Tennis Court 2'),\n",
       " ('Anne Baker', 'Tennis Court 1'),\n",
       " ('Anne Baker', 'Tennis Court 2'),\n",
       " ('Timothy Baker', 'Tennis Court 1'),\n",
       " ('Timothy Baker', 'Tennis Court 2'),\n",
       " ('Tim Boothe', 'Tennis Court 1'),\n",
       " ('Tim Boothe', 'Tennis Court 2'),\n",
       " ('Gerald Butters', 'Tennis Court 1'),\n",
       " ('Gerald Butters', 'Tennis Court 2'),\n",
       " ('Joan Coplin', 'Tennis Court 1'),\n",
       " ('Joan Coplin', 'Tennis Court 2'),\n",
       " ('Erica Crumpet', 'Tennis Court 1'),\n",
       " ('Erica Crumpet', 'Tennis Court 2'),\n",
       " ('Nancy Dare', 'Tennis Court 1'),\n",
       " ('Nancy Dare', 'Tennis Court 2'),\n",
       " ('David Farrell', 'Tennis Court 1'),\n",
       " ('David Farrell', 'Tennis Court 2'),\n",
       " ('Jemima Farrell', 'Tennis Court 1'),\n",
       " ('Jemima Farrell', 'Tennis Court 2'),\n",
       " ('Matthew Genting', 'Tennis Court 1'),\n",
       " ('Matthew Genting', 'Tennis Court 2'),\n",
       " ('John Hunt', 'Tennis Court 1'),\n",
       " ('John Hunt', 'Tennis Court 2'),\n",
       " ('David Jones', 'Tennis Court 1'),\n",
       " ('David Jones', 'Tennis Court 2'),\n",
       " ('Douglas Jones', 'Tennis Court 1'),\n",
       " ('Douglas Jones', 'Tennis Court 2'),\n",
       " ('Janice Joplette', 'Tennis Court 1'),\n",
       " ('Janice Joplette', 'Tennis Court 2'),\n",
       " ('Charles Owen', 'Tennis Court 1'),\n",
       " ('Charles Owen', 'Tennis Court 2'),\n",
       " ('David Pinker', 'Tennis Court 1'),\n",
       " ('David Pinker', 'Tennis Court 2'),\n",
       " ('Millicent Purview', 'Tennis Court 1'),\n",
       " ('Millicent Purview', 'Tennis Court 2'),\n",
       " ('Tim Rownam', 'Tennis Court 1'),\n",
       " ('Tim Rownam', 'Tennis Court 2'),\n",
       " ('Henrietta Rumney', 'Tennis Court 1'),\n",
       " ('Henrietta Rumney', 'Tennis Court 2'),\n",
       " ('Ramnaresh Sarwin', 'Tennis Court 1'),\n",
       " ('Ramnaresh Sarwin', 'Tennis Court 2'),\n",
       " ('Darren Smith', 'Tennis Court 1'),\n",
       " ('Darren Smith', 'Tennis Court 2'),\n",
       " ('Jack Smith', 'Tennis Court 1'),\n",
       " ('Jack Smith', 'Tennis Court 2'),\n",
       " ('Tracy Smith', 'Tennis Court 1'),\n",
       " ('Tracy Smith', 'Tennis Court 2'),\n",
       " ('Ponder Stibbons', 'Tennis Court 1'),\n",
       " ('Ponder Stibbons', 'Tennis Court 2'),\n",
       " ('Burton Tracy', 'Tennis Court 1'),\n",
       " ('Burton Tracy', 'Tennis Court 2')]"
      ]
     },
     "execution_count": 16,
     "metadata": {},
     "output_type": "execute_result"
    }
   ],
   "source": [
    "query = \"\"\"SELECT mem.firstname || ' ' || mem.surname, fac.name\n",
    "FROM members mem, facilities fac \n",
    "WHERE\n",
    "memid IN (SELECT DISTINCT memid FROM bookings WHERE facid IN (0,1)) \n",
    "AND memid != 0 \n",
    "AND facid IN (0,1)\n",
    "ORDER BY surname, firstname\"\"\"\n",
    "return_query(query)"
   ]
  },
  {
   "cell_type": "markdown",
   "metadata": {},
   "source": [
    "Q8: Produce a list of bookings on the day of 2012-09-14 which will cost the member (or guest) more than $30. Remember that guests have different costs to members (the listed costs are per half-hour 'slot'), and the guest user's ID is always 0. Include in your output the name of the facility, the name of the member formatted as a single column, and the cost. Order by descending cost, and do not use any subqueries. "
   ]
  },
  {
   "cell_type": "code",
   "execution_count": 17,
   "metadata": {},
   "outputs": [
    {
     "data": {
      "text/plain": [
       "[('Massage Room 1', 'GUEST GUEST', 480),\n",
       " ('Massage Room 2', 'GUEST GUEST', 480),\n",
       " ('Massage Room 1', 'GUEST GUEST', 320),\n",
       " ('Massage Room 2', 'GUEST GUEST', 320),\n",
       " ('Massage Room 1', 'GUEST GUEST', 320),\n",
       " ('Massage Room 2', 'GUEST GUEST', 320),\n",
       " ('Massage Room 1', 'GUEST GUEST', 240),\n",
       " ('Massage Room 2', 'GUEST GUEST', 240),\n",
       " ('Massage Room 1', 'GUEST GUEST', 240),\n",
       " ('Massage Room 2', 'GUEST GUEST', 240),\n",
       " ('Massage Room 1', 'GUEST GUEST', 240),\n",
       " ('Massage Room 2', 'GUEST GUEST', 240),\n",
       " ('Massage Room 1', 'GUEST GUEST', 160),\n",
       " ('Massage Room 2', 'GUEST GUEST', 160),\n",
       " ('Massage Room 1', 'GUEST GUEST', 160),\n",
       " ('Massage Room 2', 'GUEST GUEST', 160),\n",
       " ('Massage Room 1', 'GUEST GUEST', 160),\n",
       " ('Massage Room 2', 'GUEST GUEST', 160),\n",
       " ('Massage Room 1', 'GUEST GUEST', 160),\n",
       " ('Massage Room 2', 'GUEST GUEST', 160),\n",
       " ('Massage Room 1', 'GUEST GUEST', 160),\n",
       " ('Massage Room 2', 'GUEST GUEST', 160),\n",
       " ('Tennis Court 1', 'GUEST GUEST', 150),\n",
       " ('Tennis Court 2', 'GUEST GUEST', 150),\n",
       " ('Squash Court', 'GUEST GUEST', 105.0),\n",
       " ('Tennis Court 1', 'GUEST GUEST', 100),\n",
       " ('Tennis Court 2', 'GUEST GUEST', 100),\n",
       " ('Tennis Court 1', 'GUEST GUEST', 100),\n",
       " ('Tennis Court 2', 'GUEST GUEST', 100),\n",
       " ('Badminton Court', 'GUEST GUEST', 93.0),\n",
       " ('Tennis Court 1', 'GUEST GUEST', 75),\n",
       " ('Tennis Court 2', 'GUEST GUEST', 75),\n",
       " ('Tennis Court 1', 'GUEST GUEST', 75),\n",
       " ('Tennis Court 2', 'GUEST GUEST', 75),\n",
       " ('Tennis Court 1', 'GUEST GUEST', 75),\n",
       " ('Tennis Court 2', 'GUEST GUEST', 75),\n",
       " ('Squash Court', 'GUEST GUEST', 70.0),\n",
       " ('Squash Court', 'GUEST GUEST', 70.0),\n",
       " ('Badminton Court', 'GUEST GUEST', 62.0),\n",
       " ('Badminton Court', 'GUEST GUEST', 62.0),\n",
       " ('Massage Room 1', 'David Jones', 59.400000000000006),\n",
       " ('Massage Room 2', 'David Jones', 59.400000000000006),\n",
       " ('Massage Room 1', 'Tim Boothe', 59.400000000000006),\n",
       " ('Massage Room 2', 'Tim Boothe', 59.400000000000006),\n",
       " ('Squash Court', 'GUEST GUEST', 52.5),\n",
       " ('Squash Court', 'GUEST GUEST', 52.5),\n",
       " ('Squash Court', 'GUEST GUEST', 52.5),\n",
       " ('Tennis Court 1', 'GUEST GUEST', 50),\n",
       " ('Tennis Court 2', 'GUEST GUEST', 50),\n",
       " ('Tennis Court 1', 'GUEST GUEST', 50),\n",
       " ('Tennis Court 2', 'GUEST GUEST', 50),\n",
       " ('Tennis Court 1', 'GUEST GUEST', 50),\n",
       " ('Tennis Court 2', 'GUEST GUEST', 50),\n",
       " ('Tennis Court 1', 'GUEST GUEST', 50),\n",
       " ('Tennis Court 2', 'GUEST GUEST', 50),\n",
       " ('Tennis Court 1', 'GUEST GUEST', 50),\n",
       " ('Tennis Court 2', 'GUEST GUEST', 50),\n",
       " ('Badminton Court', 'GUEST GUEST', 46.5),\n",
       " ('Badminton Court', 'GUEST GUEST', 46.5),\n",
       " ('Badminton Court', 'GUEST GUEST', 46.5),\n",
       " ('Massage Room 1', 'Jemima Farrell', 39.6),\n",
       " ('Massage Room 2', 'Jemima Farrell', 39.6),\n",
       " ('Squash Court', 'GUEST GUEST', 35.0),\n",
       " ('Squash Court', 'GUEST GUEST', 35.0),\n",
       " ('Squash Court', 'GUEST GUEST', 35.0),\n",
       " ('Squash Court', 'GUEST GUEST', 35.0),\n",
       " ('Squash Court', 'GUEST GUEST', 35.0),\n",
       " ('Badminton Court', 'GUEST GUEST', 31.0),\n",
       " ('Badminton Court', 'GUEST GUEST', 31.0),\n",
       " ('Badminton Court', 'GUEST GUEST', 31.0),\n",
       " ('Badminton Court', 'GUEST GUEST', 31.0),\n",
       " ('Badminton Court', 'GUEST GUEST', 31.0)]"
      ]
     },
     "execution_count": 17,
     "metadata": {},
     "output_type": "execute_result"
    }
   ],
   "source": [
    "q = '''SELECT f.name, m.firstname ||' '||m.surname,\n",
    "CASE WHEN b.memid = 0 \n",
    "THEN b.slots*f.guestcost\n",
    "ELSE b.slots*f.membercost\n",
    "END AS cost\n",
    "FROM bookings b, facilities f, members m\n",
    "WHERE \n",
    "b.starttime LIKE \"%2012-09-14%\" AND\n",
    "((b.memid = 0 and b.slots*f.guestcost > 30) OR\n",
    "(b.memid != 0 and b.slots*f.membercost > 30)) AND\n",
    "m.memid = b.memid\n",
    "ORDER BY cost DESC\n",
    "'''\n",
    "return_query(q)"
   ]
  },
  {
   "cell_type": "markdown",
   "metadata": {},
   "source": [
    "Q9: This time, produce the same result as in Q8, but using a subquery."
   ]
  },
  {
   "cell_type": "code",
   "execution_count": 18,
   "metadata": {},
   "outputs": [
    {
     "data": {
      "text/plain": [
       "[('Massage Room 1', 0, 'GUEST GUEST', 480),\n",
       " ('Massage Room 2', 0, 'GUEST GUEST', 480),\n",
       " ('Massage Room 1', 0, 'GUEST GUEST', 320),\n",
       " ('Massage Room 2', 0, 'GUEST GUEST', 320),\n",
       " ('Massage Room 1', 0, 'GUEST GUEST', 320),\n",
       " ('Massage Room 2', 0, 'GUEST GUEST', 320),\n",
       " ('Massage Room 1', 0, 'GUEST GUEST', 240),\n",
       " ('Massage Room 2', 0, 'GUEST GUEST', 240),\n",
       " ('Massage Room 1', 0, 'GUEST GUEST', 240),\n",
       " ('Massage Room 2', 0, 'GUEST GUEST', 240),\n",
       " ('Massage Room 1', 0, 'GUEST GUEST', 240),\n",
       " ('Massage Room 2', 0, 'GUEST GUEST', 240),\n",
       " ('Massage Room 1', 0, 'GUEST GUEST', 160),\n",
       " ('Massage Room 2', 0, 'GUEST GUEST', 160),\n",
       " ('Massage Room 1', 0, 'GUEST GUEST', 160),\n",
       " ('Massage Room 2', 0, 'GUEST GUEST', 160),\n",
       " ('Massage Room 1', 0, 'GUEST GUEST', 160),\n",
       " ('Massage Room 2', 0, 'GUEST GUEST', 160),\n",
       " ('Massage Room 1', 0, 'GUEST GUEST', 160),\n",
       " ('Massage Room 2', 0, 'GUEST GUEST', 160),\n",
       " ('Massage Room 1', 0, 'GUEST GUEST', 160),\n",
       " ('Massage Room 2', 0, 'GUEST GUEST', 160),\n",
       " ('Tennis Court 1', 0, 'GUEST GUEST', 150),\n",
       " ('Tennis Court 2', 0, 'GUEST GUEST', 150),\n",
       " ('Squash Court', 0, 'GUEST GUEST', 105.0),\n",
       " ('Tennis Court 1', 0, 'GUEST GUEST', 100),\n",
       " ('Tennis Court 2', 0, 'GUEST GUEST', 100),\n",
       " ('Tennis Court 1', 0, 'GUEST GUEST', 100),\n",
       " ('Tennis Court 2', 0, 'GUEST GUEST', 100),\n",
       " ('Badminton Court', 0, 'GUEST GUEST', 93.0),\n",
       " ('Tennis Court 1', 0, 'GUEST GUEST', 75),\n",
       " ('Tennis Court 2', 0, 'GUEST GUEST', 75),\n",
       " ('Tennis Court 1', 0, 'GUEST GUEST', 75),\n",
       " ('Tennis Court 2', 0, 'GUEST GUEST', 75),\n",
       " ('Tennis Court 1', 0, 'GUEST GUEST', 75),\n",
       " ('Tennis Court 2', 0, 'GUEST GUEST', 75),\n",
       " ('Squash Court', 0, 'GUEST GUEST', 70.0),\n",
       " ('Squash Court', 0, 'GUEST GUEST', 70.0),\n",
       " ('Badminton Court', 0, 'GUEST GUEST', 62.0),\n",
       " ('Badminton Court', 0, 'GUEST GUEST', 62.0),\n",
       " ('Massage Room 1', 11, 'David Jones', 59.400000000000006),\n",
       " ('Massage Room 2', 11, 'David Jones', 59.400000000000006),\n",
       " ('Massage Room 1', 8, 'Tim Boothe', 59.400000000000006),\n",
       " ('Massage Room 2', 8, 'Tim Boothe', 59.400000000000006),\n",
       " ('Squash Court', 0, 'GUEST GUEST', 52.5),\n",
       " ('Squash Court', 0, 'GUEST GUEST', 52.5),\n",
       " ('Squash Court', 0, 'GUEST GUEST', 52.5),\n",
       " ('Tennis Court 1', 0, 'GUEST GUEST', 50),\n",
       " ('Tennis Court 2', 0, 'GUEST GUEST', 50),\n",
       " ('Tennis Court 1', 0, 'GUEST GUEST', 50),\n",
       " ('Tennis Court 2', 0, 'GUEST GUEST', 50),\n",
       " ('Tennis Court 1', 0, 'GUEST GUEST', 50),\n",
       " ('Tennis Court 2', 0, 'GUEST GUEST', 50),\n",
       " ('Tennis Court 1', 0, 'GUEST GUEST', 50),\n",
       " ('Tennis Court 2', 0, 'GUEST GUEST', 50),\n",
       " ('Tennis Court 1', 0, 'GUEST GUEST', 50),\n",
       " ('Tennis Court 2', 0, 'GUEST GUEST', 50),\n",
       " ('Badminton Court', 0, 'GUEST GUEST', 46.5),\n",
       " ('Badminton Court', 0, 'GUEST GUEST', 46.5),\n",
       " ('Badminton Court', 0, 'GUEST GUEST', 46.5),\n",
       " ('Massage Room 1', 13, 'Jemima Farrell', 39.6),\n",
       " ('Massage Room 2', 13, 'Jemima Farrell', 39.6),\n",
       " ('Squash Court', 0, 'GUEST GUEST', 35.0),\n",
       " ('Squash Court', 0, 'GUEST GUEST', 35.0),\n",
       " ('Squash Court', 0, 'GUEST GUEST', 35.0),\n",
       " ('Squash Court', 0, 'GUEST GUEST', 35.0),\n",
       " ('Squash Court', 0, 'GUEST GUEST', 35.0),\n",
       " ('Badminton Court', 0, 'GUEST GUEST', 31.0),\n",
       " ('Badminton Court', 0, 'GUEST GUEST', 31.0),\n",
       " ('Badminton Court', 0, 'GUEST GUEST', 31.0),\n",
       " ('Badminton Court', 0, 'GUEST GUEST', 31.0),\n",
       " ('Badminton Court', 0, 'GUEST GUEST', 31.0)]"
      ]
     },
     "execution_count": 18,
     "metadata": {},
     "output_type": "execute_result"
    }
   ],
   "source": [
    "q = '''\n",
    "SELECT facname, memberid, m.firstname ||' '||m.surname, cost\n",
    "FROM\n",
    "(SELECT f.name AS facname, b.memid AS memberid,\n",
    "CASE WHEN b.memid = 0 \n",
    "THEN b.slots*f.guestcost\n",
    "ELSE b.slots*f.membercost\n",
    "END AS cost\n",
    "FROM bookings b, facilities f\n",
    "WHERE\n",
    "b.starttime LIKE \"%2012-09-14%\" AND\n",
    "((b.memid = 0 and b.slots*f.guestcost > 30) OR\n",
    "(b.memid != 0 and b.slots*f.membercost > 30))) AS derivedTable\n",
    "INNER JOIN members m\n",
    "ON memberid = m.memid\n",
    "ORDER BY cost DESC\n",
    "'''\n",
    "return_query(q)"
   ]
  },
  {
   "cell_type": "markdown",
   "metadata": {},
   "source": [
    "Q11: Produce a report of members and who recommended them in alphabetic surname,firstname order"
   ]
  },
  {
   "cell_type": "code",
   "execution_count": 19,
   "metadata": {},
   "outputs": [
    {
     "data": {
      "text/plain": [
       "[('Bader', 'Florence', 'Stibbons', 'Ponder'),\n",
       " ('Baker', 'Anne', 'Stibbons', 'Ponder'),\n",
       " ('Baker', 'Timothy', 'Farrell', 'Jemima'),\n",
       " ('Boothe', 'Tim', 'Rownam', 'Tim'),\n",
       " ('Butters', 'Gerald', 'Smith', 'Darren'),\n",
       " ('Coplin', 'Joan', 'Baker', 'Timothy'),\n",
       " ('Crumpet', 'Erica', 'Smith', 'Tracy'),\n",
       " ('Dare', 'Nancy', 'Joplette', 'Janice'),\n",
       " ('Genting', 'Matthew', 'Butters', 'Gerald'),\n",
       " ('Hunt', 'John', 'Purview', 'Millicent'),\n",
       " ('Jones', 'David', 'Joplette', 'Janice'),\n",
       " ('Jones', 'Douglas', 'Jones', 'David'),\n",
       " ('Joplette', 'Janice', 'Smith', 'Darren'),\n",
       " ('Mackenzie', 'Anna', 'Smith', 'Darren'),\n",
       " ('Owen', 'Charles', 'Smith', 'Darren'),\n",
       " ('Pinker', 'David', 'Farrell', 'Jemima'),\n",
       " ('Purview', 'Millicent', 'Smith', 'Tracy'),\n",
       " ('Rumney', 'Henrietta', 'Genting', 'Matthew'),\n",
       " ('Sarwin', 'Ramnaresh', 'Bader', 'Florence'),\n",
       " ('Smith', 'Jack', 'Smith', 'Darren'),\n",
       " ('Stibbons', 'Ponder', 'Tracy', 'Burton'),\n",
       " ('Worthington-Smyth', 'Henry', 'Smith', 'Tracy')]"
      ]
     },
     "execution_count": 19,
     "metadata": {},
     "output_type": "execute_result"
    }
   ],
   "source": [
    "query = '''SELECT mems.surname, mems.firstname, recs.surname AS rec_last_name, recs.firstname AS rec_first_name\n",
    "FROM members mems\n",
    "INNER JOIN members recs\n",
    "ON recs.memid = mems.recommendedby\n",
    "ORDER BY mems.surname, mems.firstname'''\n",
    "return_query(query)"
   ]
  },
  {
   "cell_type": "markdown",
   "metadata": {},
   "source": [
    "Q12: Find the facilities with their usage by member, but not guests "
   ]
  },
  {
   "cell_type": "code",
   "execution_count": 20,
   "metadata": {},
   "outputs": [
    {
     "data": {
      "text/plain": [
       "[('Tennis Court 1', 478.5),\n",
       " ('Tennis Court 2', 441.0),\n",
       " ('Badminton Court', 543.0),\n",
       " ('Table Tennis', 397.0),\n",
       " ('Massage Room 1', 442.0),\n",
       " ('Massage Room 2', 27.0),\n",
       " ('Squash Court', 209.0),\n",
       " ('Snooker Table', 430.0),\n",
       " ('Pool Table', 428.0)]"
      ]
     },
     "execution_count": 20,
     "metadata": {},
     "output_type": "execute_result"
    }
   ],
   "source": [
    "q = '''SELECT f.name, SUM(b.slots/2.0) AS hours\n",
    "FROM facilities AS f\n",
    "INNER JOIN bookings AS b\n",
    "USING (facid)\n",
    "WHERE b.memid != 0\n",
    "GROUP BY f.facid'''\n",
    "return_query(q)"
   ]
  },
  {
   "cell_type": "markdown",
   "metadata": {},
   "source": [
    "Q13: Find the facilities usage by month, but not guests "
   ]
  },
  {
   "cell_type": "code",
   "execution_count": 22,
   "metadata": {},
   "outputs": [
    {
     "data": {
      "text/plain": [
       "[('Badminton Court', '07', 82),\n",
       " ('Massage Room 1', '07', 83),\n",
       " ('Massage Room 2', '07', 4),\n",
       " ('Pool Table', '07', 55),\n",
       " ('Snooker Table', '07', 70),\n",
       " ('Squash Court', '07', 25),\n",
       " ('Table Tennis', '07', 49),\n",
       " ('Tennis Court 1', '07', 100),\n",
       " ('Tennis Court 2', '07', 61),\n",
       " ('Badminton Court', '08', 207),\n",
       " ('Massage Room 1', '08', 158),\n",
       " ('Massage Room 2', '08', 9),\n",
       " ('Pool Table', '08', 151),\n",
       " ('Snooker Table', '08', 158),\n",
       " ('Squash Court', '08', 92),\n",
       " ('Table Tennis', '08', 148),\n",
       " ('Tennis Court 1', '08', 169),\n",
       " ('Tennis Court 2', '08', 172),\n",
       " ('Badminton Court', '09', 253),\n",
       " ('Massage Room 1', '09', 201),\n",
       " ('Massage Room 2', '09', 14),\n",
       " ('Pool Table', '09', 221),\n",
       " ('Snooker Table', '09', 202),\n",
       " ('Squash Court', '09', 92),\n",
       " ('Table Tennis', '09', 200),\n",
       " ('Tennis Court 1', '09', 208),\n",
       " ('Tennis Court 2', '09', 207)]"
      ]
     },
     "execution_count": 22,
     "metadata": {},
     "output_type": "execute_result"
    }
   ],
   "source": [
    "q = '''SELECT f.name, strftime('%m', b.starttime) AS month, SUM(b.slots)/2 AS hours\n",
    "FROM facilities AS f\n",
    "INNER JOIN bookings b\n",
    "ON f.facid = b.facid\n",
    "WHERE b.memid != 0\n",
    "GROUP BY month, f.name\n",
    "'''\n",
    "return_query(q)"
   ]
  },
  {
   "cell_type": "code",
   "execution_count": null,
   "metadata": {
    "collapsed": true
   },
   "outputs": [],
   "source": []
  }
 ],
 "metadata": {
  "kernelspec": {
   "display_name": "Python [conda env:py_3]",
   "language": "python",
   "name": "conda-env-py_3-py"
  },
  "language_info": {
   "codemirror_mode": {
    "name": "ipython",
    "version": 3
   },
   "file_extension": ".py",
   "mimetype": "text/x-python",
   "name": "python",
   "nbconvert_exporter": "python",
   "pygments_lexer": "ipython3",
   "version": "3.7.13"
  }
 },
 "nbformat": 4,
 "nbformat_minor": 2
}
